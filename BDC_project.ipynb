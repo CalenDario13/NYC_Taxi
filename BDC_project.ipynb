{
 "cells": [
  {
   "cell_type": "code",
   "execution_count": 1,
   "id": "920c4191",
   "metadata": {},
   "outputs": [],
   "source": [
    "%%capture\n",
    "!pip install pyspark_dist_explore\n",
    "!pip install chart-studio\n",
    "!pip install -q kaggle"
   ]
  },
  {
   "cell_type": "code",
   "execution_count": 2,
   "id": "6ff7e9ca",
   "metadata": {},
   "outputs": [],
   "source": [
    "# Work With Files\n",
    "from google.cloud import storage\n",
    "import os\n",
    "\n",
    "# Useful libraries:\n",
    "from time import time\n",
    "import numpy as np\n",
    "import pandas as pd\n",
    "import math\n",
    "\n",
    "# To Plot:\n",
    "import matplotlib.pyplot as plt\n",
    "import seaborn as sns\n",
    "import chart_studio.plotly as py\n",
    "import plotly.graph_objs as go\n",
    "\n",
    "# Pyspark Lib:\n",
    "import pyspark\n",
    "from pyspark.sql import *\n",
    "from pyspark.sql.types import *\n",
    "from pyspark.sql.functions import col\n",
    "import pyspark.sql.functions as F\n",
    "from pyspark import SparkContext, SparkConf\n",
    "\n",
    "from pyspark_dist_explore import hist\n",
    "\n",
    "# Preprocess:\n",
    "from pyspark.ml import Pipeline\n",
    "from pyspark.ml.feature import VectorAssembler\n",
    "from pyspark.ml.feature import StandardScaler\n",
    "from pyspark.ml.feature import MinMaxScaler\n",
    "\n",
    "# Pysparl ML:\n",
    "from pyspark.ml.regression import LinearRegression"
   ]
  },
  {
   "cell_type": "code",
   "execution_count": 3,
   "id": "532438b4",
   "metadata": {},
   "outputs": [],
   "source": [
    "PATH_BUCKET = 'gs://nyc_comp_bk/'\n",
    "PATH_DATA = '/home/ubuntu/NYC_Taxi/data/'"
   ]
  },
  {
   "cell_type": "code",
   "execution_count": 4,
   "id": "c064c5be",
   "metadata": {},
   "outputs": [],
   "source": [
    "os.chdir('/home/ubuntu/NYC_Taxi/')"
   ]
  },
  {
   "cell_type": "code",
   "execution_count": 5,
   "id": "469ff62d",
   "metadata": {},
   "outputs": [],
   "source": [
    "class Work_On_Bucket():\n",
    "    \n",
    "    def __init__(self, bucket_name):\n",
    "        # Get access to the bucket:\n",
    "        storage_client = storage.Client()\n",
    "        self.bucket = storage_client.get_bucket(bucket_name)\n",
    "        \n",
    "    def get_file_from_bucket(self, file_name, save_path):\n",
    "        # Download the file:\n",
    "        blob = self.bucket.blob(file_name)\n",
    "        blob.download_to_filename(''.join([save_path, file_name]))\n",
    "            \n",
    "    def upload_file_to_bucket(self, file_name, folder_path):\n",
    "        # Upload the File\n",
    "        object_to_save = self.bucket.blob(file_name)\n",
    "        object_to_save.upload_from_filename(folder_path + file_name)\n"
   ]
  },
  {
   "cell_type": "markdown",
   "id": "656cf8b6",
   "metadata": {},
   "source": [
    "### Get the Dataset:"
   ]
  },
  {
   "cell_type": "code",
   "execution_count": 6,
   "id": "7e4f3b00",
   "metadata": {},
   "outputs": [],
   "source": [
    "Bucket = Work_On_Bucket('nyc_comp_bk')"
   ]
  },
  {
   "cell_type": "code",
   "execution_count": 7,
   "id": "92cdf99e",
   "metadata": {},
   "outputs": [
    {
     "name": "stdout",
     "output_type": "stream",
     "text": [
      "mkdir: cannot create directory ‘/root/.kaggle’: File exists\n"
     ]
    }
   ],
   "source": [
    "# Set kaggle:\n",
    "! mkdir ~/.kaggle\n",
    "Bucket.get_file_from_bucket('kaggle.json', '/home/ubuntu/NYC_Taxi/')\n",
    "! cp /home/ubuntu/NYC_Taxi/kaggle.json ~/.kaggle/\n",
    "! chmod 600 ~/.kaggle/kaggle.json"
   ]
  },
  {
   "cell_type": "code",
   "execution_count": null,
   "id": "544a2b53",
   "metadata": {},
   "outputs": [
    {
     "name": "stdout",
     "output_type": "stream",
     "text": [
      "Downloading new-york-city-taxi-fare-prediction.zip to /home/ubuntu/NYC_Taxi\n",
      "  4%|█▋                                     | 68.0M/1.56G [00:00<00:12, 126MB/s]"
     ]
    }
   ],
   "source": [
    "# Download The Dataset\n",
    "!kaggle competitions download -c new-york-city-taxi-fare-prediction\n",
    "\n",
    "# Unzip the Files\n",
    "! unzip new-york-city-taxi-fare-prediction.zip -d /home/ubuntu/NYC_Taxi/data/\n",
    "! rm new-york-city-taxi-fare-prediction.zip\n",
    "\n",
    "# Upload databses to bucket:\n",
    "print('Start Uploding!')\n",
    "Bucket.upload_file_to_bucket('train.csv', PATH_DATA)\n",
    "Bucket.upload_file_to_bucket('test.csv', PATH_DATA)\n",
    "print('Succesfully Uploaded!')"
   ]
  },
  {
   "cell_type": "markdown",
   "id": "d0b74434",
   "metadata": {},
   "source": [
    "### Preliminary Steps (Load + Checks):"
   ]
  },
  {
   "cell_type": "code",
   "execution_count": 8,
   "id": "02b79509",
   "metadata": {},
   "outputs": [],
   "source": [
    "# Load Data:\n",
    "train = spark.read.load(PATH_BUCKET+\"train.csv\", format=\"csv\", inferSchema=\"true\", header=\"true\")\n",
    "test = spark.read.load(PATH_BUCKET+\"test.csv\", format=\"csv\", inferSchema=\"true\", header=\"true\")\n",
    "\n",
    "# Load Test (Because pyspark changes the timestamp):\n",
    "Bucket.get_file_from_bucket('test.csv', '')\n",
    "original_test = pd.read_csv('test.csv')"
   ]
  },
  {
   "cell_type": "code",
   "execution_count": 9,
   "id": "b04f1e9e",
   "metadata": {},
   "outputs": [
    {
     "name": "stdout",
     "output_type": "stream",
     "text": [
      "The shape of the dataset is 55423856 rows by 8 columns\n"
     ]
    }
   ],
   "source": [
    "# Get DB shape:\n",
    "ncol = len(train.columns)\n",
    "nrow = train.count()\n",
    "print(\"The shape of the dataset is {:d} rows by {:d} columns\".format(nrow, ncol))"
   ]
  },
  {
   "cell_type": "code",
   "execution_count": 10,
   "id": "667e0492",
   "metadata": {},
   "outputs": [
    {
     "name": "stdout",
     "output_type": "stream",
     "text": [
      "root\n",
      " |-- key: timestamp (nullable = true)\n",
      " |-- fare_amount: double (nullable = true)\n",
      " |-- pickup_datetime: string (nullable = true)\n",
      " |-- pickup_longitude: double (nullable = true)\n",
      " |-- pickup_latitude: double (nullable = true)\n",
      " |-- dropoff_longitude: double (nullable = true)\n",
      " |-- dropoff_latitude: double (nullable = true)\n",
      " |-- passenger_count: integer (nullable = true)\n",
      "\n"
     ]
    }
   ],
   "source": [
    "# Get the schema:\n",
    "train.printSchema()"
   ]
  },
  {
   "cell_type": "code",
   "execution_count": 11,
   "id": "d2e20359",
   "metadata": {},
   "outputs": [
    {
     "data": {
      "text/html": [
       "<div>\n",
       "<style scoped>\n",
       "    .dataframe tbody tr th:only-of-type {\n",
       "        vertical-align: middle;\n",
       "    }\n",
       "\n",
       "    .dataframe tbody tr th {\n",
       "        vertical-align: top;\n",
       "    }\n",
       "\n",
       "    .dataframe thead th {\n",
       "        text-align: right;\n",
       "    }\n",
       "</style>\n",
       "<table border=\"1\" class=\"dataframe\">\n",
       "  <thead>\n",
       "    <tr style=\"text-align: right;\">\n",
       "      <th></th>\n",
       "      <th>summary</th>\n",
       "      <th>fare_amount</th>\n",
       "      <th>pickup_datetime</th>\n",
       "      <th>pickup_longitude</th>\n",
       "      <th>pickup_latitude</th>\n",
       "      <th>dropoff_longitude</th>\n",
       "      <th>dropoff_latitude</th>\n",
       "      <th>passenger_count</th>\n",
       "    </tr>\n",
       "  </thead>\n",
       "  <tbody>\n",
       "    <tr>\n",
       "      <th>0</th>\n",
       "      <td>count</td>\n",
       "      <td>55423856</td>\n",
       "      <td>55423856</td>\n",
       "      <td>55423856</td>\n",
       "      <td>55423856</td>\n",
       "      <td>55423480</td>\n",
       "      <td>55423480</td>\n",
       "      <td>55423856</td>\n",
       "    </tr>\n",
       "    <tr>\n",
       "      <th>1</th>\n",
       "      <td>mean</td>\n",
       "      <td>11.345045601663855</td>\n",
       "      <td>None</td>\n",
       "      <td>-72.50968444358728</td>\n",
       "      <td>39.91979178688818</td>\n",
       "      <td>-72.5112097297181</td>\n",
       "      <td>39.92068144482884</td>\n",
       "      <td>1.6853799201556816</td>\n",
       "    </tr>\n",
       "    <tr>\n",
       "      <th>2</th>\n",
       "      <td>stddev</td>\n",
       "      <td>20.7108321982325</td>\n",
       "      <td>None</td>\n",
       "      <td>12.848883381402654</td>\n",
       "      <td>9.642353041994934</td>\n",
       "      <td>12.782196517830771</td>\n",
       "      <td>9.633345796415126</td>\n",
       "      <td>1.327664357095968</td>\n",
       "    </tr>\n",
       "    <tr>\n",
       "      <th>3</th>\n",
       "      <td>min</td>\n",
       "      <td>-300.0</td>\n",
       "      <td>2009-01-01 00:00:27 UTC</td>\n",
       "      <td>-3442.059565</td>\n",
       "      <td>-3492.263768</td>\n",
       "      <td>-3442.024565</td>\n",
       "      <td>-3547.886698</td>\n",
       "      <td>0</td>\n",
       "    </tr>\n",
       "    <tr>\n",
       "      <th>4</th>\n",
       "      <td>max</td>\n",
       "      <td>93963.36</td>\n",
       "      <td>2015-06-30 23:59:54 UTC</td>\n",
       "      <td>3457.625683</td>\n",
       "      <td>3408.789565</td>\n",
       "      <td>3457.62235</td>\n",
       "      <td>3537.132528</td>\n",
       "      <td>208</td>\n",
       "    </tr>\n",
       "  </tbody>\n",
       "</table>\n",
       "</div>"
      ],
      "text/plain": [
       "  summary         fare_amount          pickup_datetime    pickup_longitude  \\\n",
       "0   count            55423856                 55423856            55423856   \n",
       "1    mean  11.345045601663855                     None  -72.50968444358728   \n",
       "2  stddev    20.7108321982325                     None  12.848883381402654   \n",
       "3     min              -300.0  2009-01-01 00:00:27 UTC        -3442.059565   \n",
       "4     max            93963.36  2015-06-30 23:59:54 UTC         3457.625683   \n",
       "\n",
       "     pickup_latitude   dropoff_longitude   dropoff_latitude  \\\n",
       "0           55423856            55423480           55423480   \n",
       "1  39.91979178688818   -72.5112097297181  39.92068144482884   \n",
       "2  9.642353041994934  12.782196517830771  9.633345796415126   \n",
       "3       -3492.263768        -3442.024565       -3547.886698   \n",
       "4        3408.789565          3457.62235        3537.132528   \n",
       "\n",
       "      passenger_count  \n",
       "0            55423856  \n",
       "1  1.6853799201556816  \n",
       "2   1.327664357095968  \n",
       "3                   0  \n",
       "4                 208  "
      ]
     },
     "execution_count": 11,
     "metadata": {},
     "output_type": "execute_result"
    }
   ],
   "source": [
    "# Show some basic Statistics:\n",
    "stats = train.select(train.columns[1:]).describe()\n",
    "stats.toPandas()"
   ]
  },
  {
   "cell_type": "code",
   "execution_count": 12,
   "id": "f7a5852c",
   "metadata": {},
   "outputs": [
    {
     "name": "stdout",
     "output_type": "stream",
     "text": [
      "pickup_datetime: 0\n",
      "pickup_longitude: 0\n",
      "pickup_latitude: 0\n",
      "dropoff_longitude: 376\n",
      "dropoff_latitude: 376\n",
      "passenger_count: 0\n"
     ]
    }
   ],
   "source": [
    "# Check Nulls:\n",
    "for c in train.columns[2:]:\n",
    "    nans = train.where(col(c).isNull()).count()\n",
    "    print('{:s}: {:d}'.format(c, nans))"
   ]
  },
  {
   "cell_type": "code",
   "execution_count": 13,
   "id": "d7187252",
   "metadata": {},
   "outputs": [],
   "source": [
    "# Remove Rows with Missing Values:\n",
    "train = train.na.drop(how='any')"
   ]
  },
  {
   "cell_type": "code",
   "execution_count": 14,
   "id": "d996b863",
   "metadata": {},
   "outputs": [
    {
     "name": "stdout",
     "output_type": "stream",
     "text": [
      "The Duplicates are: 1650\n"
     ]
    }
   ],
   "source": [
    "# Check Duplicates:\n",
    "print('The Duplicates are: {:d}'.format(train.count()-train.distinct().count()))"
   ]
  },
  {
   "cell_type": "code",
   "execution_count": 15,
   "id": "e35175d5",
   "metadata": {},
   "outputs": [],
   "source": [
    "# Remove Duplicates:\n",
    "train = train.distinct()"
   ]
  },
  {
   "cell_type": "markdown",
   "id": "7f87fc4a",
   "metadata": {},
   "source": [
    "### Work With the Fare Price (Dependent Variale):"
   ]
  },
  {
   "cell_type": "markdown",
   "id": "2a352ea1",
   "metadata": {},
   "source": [
    "Checking the statistics, it is clear that some values are not possible, I am going to remove negatives values and all values that are lower that 2.50 dollars (https://nymag.com/nymetro/urban/features/taxi/n_20286/). Hence, I will keep all values greather than 2.50 dollars. By taking into account the max value, it is clear that some outlayers are present, nobady would want to spend 93,963 dollars for a trip. Working with the quantiles it is clear that there is somenthing wrong with the fare amount, the median is 999.9 dollars. As starting point let's remove what I am pretty sure that is an outlayer, namely everything over the fourth quntile, which represents all values greater than 93963.36 dollars. Computing again the quantiles now the fourth quantile is 999.99 dollars, Checking the other variables associated with these high fare amounts, it comes up that some of them doesn't make any sense: no changes in lat and long pick up and drop off, too small journey with one or two people for a so high price, missing values for lat and long and so on. I am going to keep al observations with fear amount less than 999.99 dollars, hopping that with the EDA I can clean more the data."
   ]
  },
  {
   "cell_type": "code",
   "execution_count": 16,
   "id": "88685298",
   "metadata": {},
   "outputs": [
    {
     "data": {
      "text/html": [
       "<div>\n",
       "<style scoped>\n",
       "    .dataframe tbody tr th:only-of-type {\n",
       "        vertical-align: middle;\n",
       "    }\n",
       "\n",
       "    .dataframe tbody tr th {\n",
       "        vertical-align: top;\n",
       "    }\n",
       "\n",
       "    .dataframe thead th {\n",
       "        text-align: right;\n",
       "    }\n",
       "</style>\n",
       "<table border=\"1\" class=\"dataframe\">\n",
       "  <thead>\n",
       "    <tr style=\"text-align: right;\">\n",
       "      <th></th>\n",
       "      <th>summary</th>\n",
       "      <th>fare_amount</th>\n",
       "    </tr>\n",
       "  </thead>\n",
       "  <tbody>\n",
       "    <tr>\n",
       "      <th>0</th>\n",
       "      <td>count</td>\n",
       "      <td>55421830</td>\n",
       "    </tr>\n",
       "    <tr>\n",
       "      <th>1</th>\n",
       "      <td>mean</td>\n",
       "      <td>11.345105672079598</td>\n",
       "    </tr>\n",
       "    <tr>\n",
       "      <th>2</th>\n",
       "      <td>stddev</td>\n",
       "      <td>20.71113115840589</td>\n",
       "    </tr>\n",
       "    <tr>\n",
       "      <th>3</th>\n",
       "      <td>min</td>\n",
       "      <td>-300.0</td>\n",
       "    </tr>\n",
       "    <tr>\n",
       "      <th>4</th>\n",
       "      <td>max</td>\n",
       "      <td>93963.36</td>\n",
       "    </tr>\n",
       "  </tbody>\n",
       "</table>\n",
       "</div>"
      ],
      "text/plain": [
       "  summary         fare_amount\n",
       "0   count            55421830\n",
       "1    mean  11.345105672079598\n",
       "2  stddev   20.71113115840589\n",
       "3     min              -300.0\n",
       "4     max            93963.36"
      ]
     },
     "execution_count": 16,
     "metadata": {},
     "output_type": "execute_result"
    }
   ],
   "source": [
    "# Get statistics:\n",
    "train.select('fare_amount').describe().toPandas()"
   ]
  },
  {
   "cell_type": "code",
   "execution_count": 17,
   "id": "5d26a19f",
   "metadata": {},
   "outputs": [],
   "source": [
    "# Remove Values lower than 2.50$:\n",
    "train = train.filter('fare_amount > 2.50')"
   ]
  },
  {
   "cell_type": "code",
   "execution_count": 18,
   "id": "24766e1e",
   "metadata": {},
   "outputs": [
    {
     "data": {
      "text/plain": [
       "[2.51, 358.21, 93963.36, 93963.36]"
      ]
     },
     "execution_count": 18,
     "metadata": {},
     "output_type": "execute_result"
    }
   ],
   "source": [
    "# Compute Quantiles:\n",
    "train.approxQuantile('fare_amount', [0.25, 0.50, 0.75, 0.975], 0.25)"
   ]
  },
  {
   "cell_type": "code",
   "execution_count": 19,
   "id": "34ec5cb0",
   "metadata": {},
   "outputs": [],
   "source": [
    "# Remove Outlayers:\n",
    "train = train.filter('fare_amount < 93963.36')"
   ]
  },
  {
   "cell_type": "code",
   "execution_count": 20,
   "id": "dedd27ca",
   "metadata": {},
   "outputs": [
    {
     "data": {
      "text/plain": [
       "[2.51, 337.25, 75747.02, 75747.02]"
      ]
     },
     "execution_count": 20,
     "metadata": {},
     "output_type": "execute_result"
    }
   ],
   "source": [
    "# Compute Again Quantiles\n",
    "train.approxQuantile('fare_amount', [0.25, 0.50, 0.75, 0.975], 0.25)"
   ]
  },
  {
   "cell_type": "code",
   "execution_count": 21,
   "id": "5b77a726",
   "metadata": {},
   "outputs": [],
   "source": [
    "# Remove other Outlayers:\n",
    "train = train.filter('fare_amount < 999.99')"
   ]
  },
  {
   "cell_type": "code",
   "execution_count": 22,
   "id": "5c1c7f07",
   "metadata": {},
   "outputs": [
    {
     "data": {
      "text/plain": [
       "[2.51, 300.0, 978.0, 978.0]"
      ]
     },
     "execution_count": 22,
     "metadata": {},
     "output_type": "execute_result"
    }
   ],
   "source": [
    "# Check Quantiles:\n",
    "train.approxQuantile('fare_amount', [0.25, 0.50, 0.75, 0.975], 0.25)"
   ]
  },
  {
   "cell_type": "markdown",
   "id": "9049acc2",
   "metadata": {},
   "source": [
    "### Create My Base Line:"
   ]
  },
  {
   "cell_type": "markdown",
   "id": "f66ac0ca",
   "metadata": {},
   "source": [
    "As Base Line I am going to use a Multiple Linear Regression that takes as input all the scaled (mean=0, sd=1) numerical variables.\n",
    "As result I get an RMSE = 9.40719 on the Test."
   ]
  },
  {
   "cell_type": "code",
   "execution_count": 23,
   "id": "6acc6cb8",
   "metadata": {},
   "outputs": [],
   "source": [
    "NUMERICAL = ['pickup_longitude',\n",
    "            'pickup_latitude',\n",
    "            'dropoff_longitude',\n",
    "            'dropoff_latitude',\n",
    "            'passenger_count']\n",
    "TARGET = 'fare_amount'"
   ]
  },
  {
   "cell_type": "code",
   "execution_count": 24,
   "id": "cc803e5c",
   "metadata": {},
   "outputs": [],
   "source": [
    "# Get the feature Vector:\n",
    "assembler = VectorAssembler(inputCols=NUMERICAL, outputCol=\"features\")\n",
    "train_df = assembler.transform(train)\n",
    "train_df = train_df.select('features', TARGET)"
   ]
  },
  {
   "cell_type": "code",
   "execution_count": 25,
   "id": "b386f12a",
   "metadata": {},
   "outputs": [],
   "source": [
    "# Scale Data:\n",
    "scaler = StandardScaler(inputCol=\"features\", outputCol=\"ScaledFeatures\")\n",
    "scalerModel = scaler.fit(train_df)\n",
    "train_df = scalerModel.transform(train_df)\n",
    "train_df = train_df.select('ScaledFeatures', TARGET)"
   ]
  },
  {
   "cell_type": "code",
   "execution_count": 26,
   "id": "162abb7b",
   "metadata": {},
   "outputs": [
    {
     "name": "stdout",
     "output_type": "stream",
     "text": [
      "***** Training Set *****\n",
      "RMSE: 9.792\n",
      "MAE: 6.030\n",
      "R2: 0.000\n",
      "***** Training Set *****\n"
     ]
    }
   ],
   "source": [
    "# Run the Linear Regression:\n",
    "lr = LinearRegression(featuresCol=\"ScaledFeatures\", labelCol=TARGET, maxIter=10)\n",
    "lr_model = lr.fit(train_df)\n",
    "\n",
    "# Print Stats:\n",
    "training_result = lr_model.summary\n",
    "print(\"***** Training Set *****\")\n",
    "print(\"RMSE: {:.3f}\".format(training_result.rootMeanSquaredError))\n",
    "print(\"MAE: {:.3f}\".format(training_result.meanAbsoluteError))\n",
    "print(\"R2: {:.3f}\".format(training_result.r2))\n",
    "print(\"***** Training Set *****\")"
   ]
  },
  {
   "cell_type": "code",
   "execution_count": 27,
   "id": "122ce8c5",
   "metadata": {},
   "outputs": [
    {
     "name": "stdout",
     "output_type": "stream",
     "text": [
      "fileName        date                 description       status    publicScore  privateScore  \n",
      "--------------  -------------------  ----------------  --------  -----------  ------------  \n",
      "submission.csv  2021-06-26 11:42:04  First Submission  complete  9.40719      9.40719       \n",
      "submission.csv  2021-06-23 15:15:57  First Submission  complete  9.40712      9.40712       \n",
      "submission.csv  2021-06-23 15:10:56  First Submission  complete  9.40712      9.40712       \n",
      "submission.csv  2021-06-23 14:58:58  None              error     None         None          \n",
      "submission.csv  2021-06-23 14:58:06  First Submission  error     None         None          \n",
      "submission.csv  2021-06-23 14:55:46  None              error     None         None          \n",
      "submission.csv  2021-06-23 14:54:33  First Submission  error     None         None          \n",
      "submission.csv  2021-06-23 14:52:36  None              error     None         None          \n",
      "submission.csv  2021-06-23 14:51:55  First Submission  error     None         None          \n",
      "submission.csv  2021-06-23 14:51:27  First Submission  error     None         None          \n",
      "submission.csv  2021-06-23 14:49:09  None              error     None         None          \n",
      "submission.csv  2021-06-23 14:47:35  First Submission  error     None         None          \n"
     ]
    }
   ],
   "source": [
    "# Prepare the test:\n",
    "test_df = assembler.transform(test.select(NUMERICAL))\n",
    "test_df = test_df.select('features')\n",
    "test_df = scalerModel.transform(test_df)\n",
    "\n",
    "# Make Predictions:\n",
    "predictions = lr_model.transform(test_df).select('prediction').withColumnRenamed('prediction','fare_amount').toPandas()\n",
    "\n",
    "# Prepare the Submission:\n",
    "submission = pd.concat([original_test['key'], predictions['fare_amount']], axis=1)\n",
    "submission.to_csv('submission.csv', index=False)\n",
    "\n",
    "# Submit:\n",
    "!kaggle competitions submit -c new-york-city-taxi-fare-prediction -f submission.csv -m \"First Submission\"\n",
    "!kaggle competitions submissions -c new-york-city-taxi-fare-prediction"
   ]
  },
  {
   "cell_type": "markdown",
   "id": "67e8e8e9",
   "metadata": {},
   "source": [
    "### EDA"
   ]
  },
  {
   "cell_type": "markdown",
   "id": "2f35bf08",
   "metadata": {},
   "source": [
    "#### 1) Latitude and Longitude"
   ]
  },
  {
   "cell_type": "markdown",
   "id": "6c732718",
   "metadata": {},
   "source": [
    "From the study of the quantiles it is clear that is plenty of outlayers, because the NYC coordinates are (lat=40.730610 lon=-73.935242). Even working with quantiles, removing anything out of the I and III quartile things don't change so much. Therefore, I opt for anothe option, I draw a triangle around the area of interest, a triangle because NY City is on an icleand which reminds a triangle, but the area is bigger than the iceland, to take into acocunt possible trips from the countriside. Then I remove all observations for which the pick up position or drop off position outside the area.\n",
    "To decide whether a point is in the triangle I walk clockwise or counterclockwise around the triangle and project the point onto the segment I am crossing by using the dot product. Finally, check that the vector created is on the same side for each of the triangle's segments.\n",
    "\n",
    "The it is possible to compute new features that can be useful both for the model and to remove more outlayers, namely the Absolute Distance, the Haversinee Distance and the Minkowski Distance (that for p=1 is the Manhattan and for p=2 is the Euclidean distance). All the distances are expressed in kilometers. To obtain some of them I need to know to how much km corresponds the variation of 1 degree for each coordinates and it turns put that for Latitude it is 111 Km and for Longitude is 85 Km. Checking the statistics of th emetrics it is clear that there are many outlayers. To drop them I am going to use a kind of voting, for each observation I get the mean of manhattan, euclidean and haversine distances metrics and remove the observation if its distance mean is less than 0.5 (namel less than 500m trip).\n",
    "\n",
    "Another feature that can improve my model is the direction (in degree) of the trip. Because the computed distancem is only an approximation and o the angle can improve this approximation. To comput the distance I use the Bearing Algorithm and I multiply the result by -1 because of the negative longitude.\n",
    "\n",
    "Exploiting the function to compute the haversian distance (which is the more realistic) I compute the distanes from the airports, both for pick up and drop off and I create a column that says whether the pick up or dorp off happened near by the airport. It is possible that there the costs are higher or maybe fixed. It is possible to check using a groupby that the average price is far away higher than the one for a standard trip. Furthermore, for rhe most of them the standard deviation shows that maybe the prices are not fixed or anyway that the prices can change up to +/-30$ for the most volatile airport (EWR).\n",
    "\n",
    "Then I suppose that a there must be a relationship between fear amount and length of the trip (it maybe also connected with duration). Hence, I create a variable tha distinguish among trips under the mean and over the mean. It seems that my hypothesis is confirmed."
   ]
  },
  {
   "cell_type": "code",
   "execution_count": 28,
   "id": "31ce795d",
   "metadata": {},
   "outputs": [
    {
     "data": {
      "text/plain": [
       "array([[-3442.059565,  2417.441523,  3457.625683],\n",
       "       [-3492.263768,  1853.9362  ,  3408.789565],\n",
       "       [-3442.024565,    40.891532,  3457.62235 ],\n",
       "       [-3547.886698,   405.3     ,  3537.132528]])"
      ]
     },
     "execution_count": 28,
     "metadata": {},
     "output_type": "execute_result"
    }
   ],
   "source": [
    "# Check I, II and III Quantiles:\n",
    "np.array([train.approxQuantile('pickup_longitude', [0.25, 0.50, 0.75], 0.25),\n",
    "          train.approxQuantile('pickup_latitude', [0.25, 0.50, 0.75], 0.25),\n",
    "          train.approxQuantile('dropoff_longitude', [0.25, 0.50, 0.75], 0.25),\n",
    "          train.approxQuantile('dropoff_latitude', [0.25, 0.50, 0.75], 0.25)])"
   ]
  },
  {
   "cell_type": "code",
   "execution_count": 29,
   "id": "cb4c9202",
   "metadata": {},
   "outputs": [],
   "source": [
    "# Write function to check if a point is a triangle:\n",
    "\n",
    "def point_in_triangle(lat, long):\n",
    "    \"\"\"\n",
    "    phuclv (https://stackoverflow.com/questions/2049582/how-to-determine-if-a-point-is-in-a-2d-triangle)\n",
    "    Returns True if the point is inside the triangle\n",
    "    and returns False if it falls outside.\n",
    "    - The argument *point* is a tuple with two elements\n",
    "    containing the X,Y coordinates respectively.\n",
    "    - The argument *triangle* is a tuple with three elements each\n",
    "    element consisting of a tuple of X,Y coordinates.\n",
    "    \"\"\"\n",
    "    # Unpack arguments\n",
    "    x = lat\n",
    "    y = long\n",
    "    ax, ay = (39.74274655286439, -75.26399018397262)\n",
    "    bx, by = (41.58840050439113, -75.18708588709761)\n",
    "    cx, cy = (41.07279488244855, -71.76484467616011)\n",
    "    # Segment A to B\n",
    "    side_1 = (x - bx) * (ay - by) - (ax - bx) * (y - by)\n",
    "    # Segment B to C\n",
    "    side_2 = (x - cx) * (by - cy) - (bx - cx) * (y - cy)\n",
    "    # Segment C to A\n",
    "    side_3 = (x - ax) * (cy - ay) - (cx - ax) * (y - ay)\n",
    "    # All the signs must be positive or all negative\n",
    "    return (side_1 < 0.0) == (side_2 < 0.0) == (side_3 < 0.0)\n",
    "\n",
    "def is_in_area(lat1, lon1, lat2, lon2):\n",
    "    \n",
    "    pick = point_in_triangle(lat1, lon1)\n",
    "    drop = point_in_triangle(lat2, lon2)\n",
    "    \n",
    "    return all([pick, drop])\n",
    "\n",
    "is_in_area_udf = F.udf(is_in_area, BooleanType())"
   ]
  },
  {
   "cell_type": "code",
   "execution_count": 30,
   "id": "424d99fb",
   "metadata": {},
   "outputs": [],
   "source": [
    "# Remove any point outside the given area:\n",
    "train = train.withColumn('keep', is_in_area_udf( col('pickup_latitude'), col('pickup_longitude'), col('dropoff_latitude'), col('dropoff_longitude') ) )\n",
    "train = train.filter(\"keep == True\")\n",
    "train = train.drop('keep')"
   ]
  },
  {
   "cell_type": "code",
   "execution_count": 31,
   "id": "294c4334",
   "metadata": {},
   "outputs": [
    {
     "name": "stdout",
     "output_type": "stream",
     "text": [
      "+-------+-------------------+------------------+-------------------+-------------------+\n",
      "|summary|    pickup_latitude|  pickup_longitude|   dropoff_latitude|  dropoff_longitude|\n",
      "+-------+-------------------+------------------+-------------------+-------------------+\n",
      "|  count|           54035164|          54035164|           54035164|           54035164|\n",
      "|   mean|  40.75086908812028|-73.97552681981169|  40.75126957781323| -73.97462208403955|\n",
      "| stddev|0.02747470264987258|0.0355824322536576|0.03138283190684735|0.03545131465385524|\n",
      "|    min|          39.804188|          -75.2463|           39.80016|         -75.243442|\n",
      "|    max|          41.519495|          -72.0619|          41.567147|          -71.97642|\n",
      "+-------+-------------------+------------------+-------------------+-------------------+\n",
      "\n"
     ]
    }
   ],
   "source": [
    "train.select(col('pickup_latitude'), col('pickup_longitude'), col('dropoff_latitude'), col('dropoff_longitude')).describe().show()"
   ]
  },
  {
   "cell_type": "code",
   "execution_count": 32,
   "id": "66d8178e",
   "metadata": {},
   "outputs": [],
   "source": [
    "# Write Functions needed to Create Coordinates Features\n",
    "\n",
    "class Coordinates_Transform():\n",
    "\n",
    "    def __init__(self, df):\n",
    "\n",
    "        self.df = df\n",
    "        self.haversine_udf = F.udf(Coordinates_Transform.haversine_stat, DoubleType())\n",
    "        self.direction_udf = F.udf(Coordinates_Transform.calculate_dir, DoubleType())\n",
    "        self.airports_udf = F.udf(Coordinates_Transform.identify_airports, StringType())\n",
    "\n",
    "\n",
    "    @staticmethod\n",
    "    def haversine_stat(pick_lat, drop_lat, pick_long, drop_long):\n",
    "\n",
    "        longit_a, latit_a, longit_b, latit_b = map(math.radians, [pick_long,  pick_lat, drop_long, drop_lat])\n",
    "        dist_longit = longit_b - longit_a\n",
    "        dist_latit = latit_b - latit_a\n",
    "        # Calculate area\n",
    "        area = math.sin(dist_latit/2)**2 + math.cos(latit_a) * math.cos(latit_b) * math.sin(dist_longit/2)**2\n",
    "        # Calculate the central angle\n",
    "        central_angle = 2 * math.asin(math.sqrt(area))\n",
    "        RADIUS = 6371\n",
    "        # Calculate Distance\n",
    "        distance = central_angle * RADIUS\n",
    "        return round(distance, 3)\n",
    "\n",
    "    def add_dist_metrics(self):\n",
    "       \n",
    "        # Absolute Lat e Long Distance:\n",
    "        self.df = self.df.withColumn( 'abs_dist_longitude', F.round( F.abs( col('pickup_longitude') - col('dropoff_longitude') ) * 85, 3 ) )\n",
    "        self.df = self.df.withColumn( 'abs_dist_latitude', F.round( F.abs( col('pickup_latitude') - col('dropoff_latitude') ) * 111 , 3 ) )\n",
    "\n",
    "        # Manhattan Distance:\n",
    "        self.df = self.df.withColumn( 'manhattan_dist', F.round( col('abs_dist_longitude') + col('abs_dist_latitude'), 3 ) )\n",
    "\n",
    "        # Euclidean Distance:\n",
    "        self.df = self.df.withColumn( 'euclidean_dist',  F.round( F.sqrt( col('abs_dist_longitude')**2 + col('abs_dist_latitude')**2 ), 3 ) )\n",
    "\n",
    "        # Haversine Distance:\n",
    "        self.df = self.df.withColumn( 'haversine_dist', \n",
    "                                     self.haversine_udf( col('pickup_latitude'), col('dropoff_latitude'), col('pickup_longitude'), col('dropoff_longitude') ) ) \n",
    "\n",
    "    return self.df\n",
    "\n",
    "    @staticmethod\n",
    "    def calculate_dir(lat1, lon1, lat2, lon2):\n",
    "\n",
    "        '''\n",
    "        https://www.movable-type.co.uk/scripts/latlong.html\n",
    "        It is measured in 0 - 360 degrees\n",
    "        '''\n",
    "\n",
    "        dlon = lon2 - lon1\n",
    "        y = math.sin(dlon) * math.cos(lat2)\n",
    "        x = math.cos(lat1) * math.sin(lat2) - math.sin(lat1) * math.cos(lat2) * math.cos(dlon)\n",
    "        theta = math.atan2(y, x)*180/math.pi\n",
    "\n",
    "        return (-theta + 360) % 360\n",
    "\n",
    "\n",
    "\n",
    "    def direction(self):\n",
    "        self.df = self.df.withColumn('direction', self.direction_udf( col('pickup_latitude'), col('pickup_longitude'), col('dropoff_latitude'), col('dropoff_longitude') ))\n",
    "        return self.df\n",
    "\n",
    "    def third_dim_remap(self):\n",
    "        '''\n",
    "        The credit for the next features goes to Jan van der Vegt @datascience.stackexchange.com\n",
    "        https://datascience.stackexchange.com/users/14904/jan-van-der-vegt\n",
    "        '''\n",
    "        # Compute coordinates for pickup:\n",
    "        self.df = self.df.withColumn('pickup_x', F.cos('pickup_latitude') * F.cos('pickup_longitude'))\n",
    "        self.df = self.df.withColumn('pickup_y', F.cos('pickup_latitude') * F.sin('pickup_longitude'))\n",
    "        self.df = self.df.withColumn('pickup_z', F.sin('pickup_latitude'))\n",
    "\n",
    "        # Compute coordinates for dropoff\n",
    "        self.df = self.df.withColumn('dropoff_x', F.cos('dropoff_latitude') * F.cos('dropoff_longitude'))\n",
    "        self.df = self.df.withColumn('dropoff_y', F.cos('dropoff_latitude') * F.sin('dropoff_longitude'))\n",
    "        self.df = self.df.withColumn('dropoff_z', F.sin('dropoff_latitude'))\n",
    "\n",
    "        return self.df\n",
    "\n",
    "\n",
    "    @staticmethod\n",
    "    def identify_airports(pick_lat, drop_lat, pick_long, drop_long):\n",
    "\n",
    "        # Set the coordinates of airports:\n",
    "        JFK_LAT = 40.641766\n",
    "        JFK_LON = -73.780968\n",
    "\n",
    "        LGR_LAT = 40.773013\n",
    "        LGR_LON = -73.870229\n",
    "\n",
    "        EWR_LAT = 40.689531\n",
    "        EWR_LON = -74.174462\n",
    "\n",
    "        # Compute distances:\n",
    "        pick_up_jfk = Coordinates_Transform.haversine_stat(JFK_LAT, pick_lat, JFK_LON, pick_long)\n",
    "        drop_off_jfk = Coordinates_Transform.haversine_stat(drop_lat, JFK_LAT, drop_long, JFK_LON)\n",
    "\n",
    "        pick_up_lgr = Coordinates_Transform.haversine_stat(LGR_LAT, pick_lat, LGR_LON, pick_long)\n",
    "        drop_off_lgr = Coordinates_Transform.haversine_stat(drop_lat, LGR_LAT, drop_long, LGR_LON)\n",
    "\n",
    "        pick_up_ewr = Coordinates_Transform.haversine_stat(EWR_LAT, pick_lat, EWR_LON, pick_long)\n",
    "        drop_off_ewr = Coordinates_Transform.haversine_stat(drop_lat, EWR_LAT, drop_long, EWR_LON)\n",
    "\n",
    "        print(pick_up_jfk, drop_off_jfk)\n",
    "        # Assign a value:\n",
    "        if pick_up_jfk < 1:\n",
    "            return 'PICK_JFK'\n",
    "        elif drop_off_jfk < 1:\n",
    "            return 'DROP_JFK'\n",
    "        if pick_up_lgr < 1:\n",
    "            return 'PICK_LGR'\n",
    "        elif drop_off_lgr < 1:\n",
    "            return 'DROP_LGR'\n",
    "        if pick_up_ewr < 1:\n",
    "            return 'PICK_EWR'\n",
    "        elif drop_off_ewr < 1:\n",
    "            return 'DROP_EWR'\n",
    "        else:\n",
    "            return 'NO_AIRPORT'\n",
    "\n",
    "    def airports(self):\n",
    "\n",
    "        self.df = self.df.withColumn('airport', \n",
    "                                     self.airports_udf( col('pickup_latitude'), col('dropoff_latitude'), col('pickup_longitude'), col('dropoff_longitude') ))\n",
    "        return self.df\n",
    "\n",
    "    def long_short_trip(self):\n",
    "\n",
    "        quantiles = self.df.approxQuantile('haversine_dist', [0.5, 0.75], 0.25)\n",
    "        med = quantiles[0]\n",
    "        third = quantiles[1]\n",
    "        self.df = self.df.withColumn( 'long_short', F.when(col('haversine_dist') <= med, 'SHORT') \\\n",
    "                                     .when( ( col('haversine_dist') > med ) & ( col('haversine_dist') < third ), 'LONG' ) \\\n",
    "                                    .otherwise('VERY_LONG') )\n",
    "        return self.df\n",
    "\n"
   ]
  },
  {
   "cell_type": "code",
   "execution_count": 33,
   "id": "3b9ffacd",
   "metadata": {},
   "outputs": [],
   "source": [
    "# Add Distance metrics:\n",
    "coordTransform = Coordinates_Transform(train)\n",
    "train = coordTransform.add_dist_metrics()"
   ]
  },
  {
   "cell_type": "code",
   "execution_count": 34,
   "id": "4ef3652f",
   "metadata": {},
   "outputs": [
    {
     "data": {
      "text/html": [
       "<div>\n",
       "<style scoped>\n",
       "    .dataframe tbody tr th:only-of-type {\n",
       "        vertical-align: middle;\n",
       "    }\n",
       "\n",
       "    .dataframe tbody tr th {\n",
       "        vertical-align: top;\n",
       "    }\n",
       "\n",
       "    .dataframe thead th {\n",
       "        text-align: right;\n",
       "    }\n",
       "</style>\n",
       "<table border=\"1\" class=\"dataframe\">\n",
       "  <thead>\n",
       "    <tr style=\"text-align: right;\">\n",
       "      <th></th>\n",
       "      <th>summary</th>\n",
       "      <th>abs_dist_longitude</th>\n",
       "      <th>abs_dist_latitude</th>\n",
       "      <th>manhattan_dist</th>\n",
       "      <th>euclidean_dist</th>\n",
       "      <th>haversine_dist</th>\n",
       "    </tr>\n",
       "  </thead>\n",
       "  <tbody>\n",
       "    <tr>\n",
       "      <th>0</th>\n",
       "      <td>count</td>\n",
       "      <td>54035164</td>\n",
       "      <td>54035164</td>\n",
       "      <td>54035164</td>\n",
       "      <td>54035164</td>\n",
       "      <td>54035164</td>\n",
       "    </tr>\n",
       "    <tr>\n",
       "      <th>1</th>\n",
       "      <td>mean</td>\n",
       "      <td>1.9342445804180306</td>\n",
       "      <td>2.364087192980479</td>\n",
       "      <td>4.298331773398526</td>\n",
       "      <td>3.3344409736222875</td>\n",
       "      <td>3.325451624464394</td>\n",
       "    </tr>\n",
       "    <tr>\n",
       "      <th>2</th>\n",
       "      <td>stddev</td>\n",
       "      <td>2.889671485794271</td>\n",
       "      <td>2.561164783985788</td>\n",
       "      <td>4.784266862461805</td>\n",
       "      <td>3.62235660624304</td>\n",
       "      <td>3.607759663695022</td>\n",
       "    </tr>\n",
       "    <tr>\n",
       "      <th>3</th>\n",
       "      <td>min</td>\n",
       "      <td>0.0</td>\n",
       "      <td>0.0</td>\n",
       "      <td>0.0</td>\n",
       "      <td>0.0</td>\n",
       "      <td>0.0</td>\n",
       "    </tr>\n",
       "    <tr>\n",
       "      <th>4</th>\n",
       "      <td>max</td>\n",
       "      <td>158.809</td>\n",
       "      <td>128.346</td>\n",
       "      <td>210.365</td>\n",
       "      <td>163.92</td>\n",
       "      <td>162.283</td>\n",
       "    </tr>\n",
       "  </tbody>\n",
       "</table>\n",
       "</div>"
      ],
      "text/plain": [
       "  summary  abs_dist_longitude  abs_dist_latitude     manhattan_dist  \\\n",
       "0   count            54035164           54035164           54035164   \n",
       "1    mean  1.9342445804180306  2.364087192980479  4.298331773398526   \n",
       "2  stddev   2.889671485794271  2.561164783985788  4.784266862461805   \n",
       "3     min                 0.0                0.0                0.0   \n",
       "4     max             158.809            128.346            210.365   \n",
       "\n",
       "       euclidean_dist     haversine_dist  \n",
       "0            54035164           54035164  \n",
       "1  3.3344409736222875  3.325451624464394  \n",
       "2    3.62235660624304  3.607759663695022  \n",
       "3                 0.0                0.0  \n",
       "4              163.92            162.283  "
      ]
     },
     "execution_count": 34,
     "metadata": {},
     "output_type": "execute_result"
    }
   ],
   "source": [
    "# Let's Check df:\n",
    "train.select('abs_dist_longitude', 'abs_dist_latitude', 'manhattan_dist', 'euclidean_dist', 'haversine_dist').describe().toPandas()"
   ]
  },
  {
   "cell_type": "code",
   "execution_count": 35,
   "id": "202d48ae",
   "metadata": {},
   "outputs": [],
   "source": [
    "# Let's remove outlayers:\n",
    "DIST_METRICS = ['manhattan_dist', 'euclidean_dist', 'haversine_dist']\n",
    "n = len(DIST_METRICS)\n",
    "row_mean  = (sum(col(x) for x in DIST_METRICS) / n).alias(\"mean_dist\")\n",
    "train = train.where( (row_mean >= 0.5) )"
   ]
  },
  {
   "cell_type": "code",
   "execution_count": 36,
   "id": "05d18d26",
   "metadata": {},
   "outputs": [
    {
     "data": {
      "text/html": [
       "<div>\n",
       "<style scoped>\n",
       "    .dataframe tbody tr th:only-of-type {\n",
       "        vertical-align: middle;\n",
       "    }\n",
       "\n",
       "    .dataframe tbody tr th {\n",
       "        vertical-align: top;\n",
       "    }\n",
       "\n",
       "    .dataframe thead th {\n",
       "        text-align: right;\n",
       "    }\n",
       "</style>\n",
       "<table border=\"1\" class=\"dataframe\">\n",
       "  <thead>\n",
       "    <tr style=\"text-align: right;\">\n",
       "      <th></th>\n",
       "      <th>summary</th>\n",
       "      <th>abs_dist_longitude</th>\n",
       "      <th>abs_dist_latitude</th>\n",
       "      <th>manhattan_dist</th>\n",
       "      <th>euclidean_dist</th>\n",
       "      <th>haversine_dist</th>\n",
       "    </tr>\n",
       "  </thead>\n",
       "  <tbody>\n",
       "    <tr>\n",
       "      <th>0</th>\n",
       "      <td>count</td>\n",
       "      <td>52251796</td>\n",
       "      <td>52251796</td>\n",
       "      <td>52251796</td>\n",
       "      <td>52251796</td>\n",
       "      <td>52251796</td>\n",
       "    </tr>\n",
       "    <tr>\n",
       "      <th>1</th>\n",
       "      <td>mean</td>\n",
       "      <td>1.9961398628288216</td>\n",
       "      <td>2.440378376926985</td>\n",
       "      <td>4.436518239755822</td>\n",
       "      <td>3.4414884706546713</td>\n",
       "      <td>3.4322147401593694</td>\n",
       "    </tr>\n",
       "    <tr>\n",
       "      <th>2</th>\n",
       "      <td>stddev</td>\n",
       "      <td>2.9186445590757844</td>\n",
       "      <td>2.5702910072982506</td>\n",
       "      <td>4.805222891448259</td>\n",
       "      <td>3.6360757676570565</td>\n",
       "      <td>3.6212921089502137</td>\n",
       "    </tr>\n",
       "    <tr>\n",
       "      <th>3</th>\n",
       "      <td>min</td>\n",
       "      <td>0.0</td>\n",
       "      <td>0.0</td>\n",
       "      <td>0.5</td>\n",
       "      <td>0.44</td>\n",
       "      <td>0.438</td>\n",
       "    </tr>\n",
       "    <tr>\n",
       "      <th>4</th>\n",
       "      <td>max</td>\n",
       "      <td>158.809</td>\n",
       "      <td>128.346</td>\n",
       "      <td>210.365</td>\n",
       "      <td>163.92</td>\n",
       "      <td>162.283</td>\n",
       "    </tr>\n",
       "  </tbody>\n",
       "</table>\n",
       "</div>"
      ],
      "text/plain": [
       "  summary  abs_dist_longitude   abs_dist_latitude     manhattan_dist  \\\n",
       "0   count            52251796            52251796           52251796   \n",
       "1    mean  1.9961398628288216   2.440378376926985  4.436518239755822   \n",
       "2  stddev  2.9186445590757844  2.5702910072982506  4.805222891448259   \n",
       "3     min                 0.0                 0.0                0.5   \n",
       "4     max             158.809             128.346            210.365   \n",
       "\n",
       "       euclidean_dist      haversine_dist  \n",
       "0            52251796            52251796  \n",
       "1  3.4414884706546713  3.4322147401593694  \n",
       "2  3.6360757676570565  3.6212921089502137  \n",
       "3                0.44               0.438  \n",
       "4              163.92             162.283  "
      ]
     },
     "execution_count": 36,
     "metadata": {},
     "output_type": "execute_result"
    }
   ],
   "source": [
    "train.select('abs_dist_longitude', 'abs_dist_latitude', 'manhattan_dist', 'euclidean_dist', 'haversine_dist').describe().toPandas()"
   ]
  },
  {
   "cell_type": "code",
   "execution_count": 37,
   "id": "5fd4dfe7",
   "metadata": {},
   "outputs": [],
   "source": [
    "# Add Directions:\n",
    "train = coordTransform.direction()"
   ]
  },
  {
   "cell_type": "code",
   "execution_count": 38,
   "id": "d537fc82",
   "metadata": {},
   "outputs": [
    {
     "data": {
      "image/png": "[encoded data removed]",
      "text/plain": [
       "<matplotlib.figure.Figure at 0x7f5ec9a2b850>"
      ]
     },
     "metadata": {},
     "output_type": "display_data"
    }
   ],
   "source": [
    "fig, ax = plt.subplots()\n",
    "hist(ax, train.select('direction'), bins = 180)\n",
    "plt.show()"
   ]
  },
  {
   "cell_type": "code",
   "execution_count": null,
   "id": "5af9d73a",
   "metadata": {},
   "outputs": [],
   "source": [
    "# Let's Add when starting point or arrival is at the airport:\n",
    "train = coordTransform.airports()"
   ]
  },
  {
   "cell_type": "code",
   "execution_count": null,
   "id": "33e5cb8a",
   "metadata": {},
   "outputs": [
    {
     "name": "stdout",
     "output_type": "stream",
     "text": [
      "+----------+------------------+------------------------+------------------+\n",
      "|   airport|  avg(fare_amount)|stddev_samp(fare_amount)|count(fare_amount)|\n",
      "+----------+------------------+------------------------+------------------+\n",
      "|NO_AIRPORT| 9.905956647934762|       6.806858795221454|          51241803|\n",
      "|  PICK_LGR|30.629194763162026|      11.131674923824347|           1020234|\n",
      "|  DROP_LGR| 31.31190311077054|       7.433062935377362|            617757|\n",
      "|  PICK_JFK| 44.71171522788871|      15.359248835348657|            766009|\n",
      "|  DROP_JFK|50.423755266641486|       8.108452610737064|            321125|\n",
      "|  PICK_EWR|  70.6121127116502|       29.83637300815114|              3957|\n",
      "|  DROP_EWR| 70.93169044322414|      13.843744196655729|             64279|\n",
      "+----------+------------------+------------------------+------------------+\n",
      "\n"
     ]
    }
   ],
   "source": [
    "# Check avg price for the airports:\n",
    "train.select('airport','fare_amount').groupBy('airport').agg(F.mean('fare_amount'), F.stddev('fare_amount'), F.count('fare_amount')).sort('avg(fare_amount)').show()"
   ]
  },
  {
   "cell_type": "code",
   "execution_count": null,
   "id": "8684a662",
   "metadata": {},
   "outputs": [],
   "source": [
    "# Add a binning for the length, based on the haversine distance:\n",
    "train = coordTransform.long_short_trip()"
   ]
  },
  {
   "cell_type": "code",
   "execution_count": null,
   "id": "b4d0d0f1",
   "metadata": {},
   "outputs": [
    {
     "name": "stdout",
     "output_type": "stream",
     "text": [
      "+----------+-----------------+------------------------+------------------+\n",
      "|long_short| avg(fare_amount)|stddev_samp(fare_amount)|count(fare_amount)|\n",
      "+----------+-----------------+------------------------+------------------+\n",
      "|     SHORT|7.547497339124412|       4.484496814775224|          37341092|\n",
      "|      LONG|19.86574124815227|      12.402911437837933|          16694072|\n",
      "+----------+-----------------+------------------------+------------------+\n",
      "\n"
     ]
    }
   ],
   "source": [
    "# Check avg price for binned trip length:\n",
    "train.select('long_short' ,'fare_amount').groupBy('long_short').agg(F.mean('fare_amount'), F.stddev('fare_amount'), F.count('fare_amount')).show()"
   ]
  }
 ],
 "metadata": {
  "kernelspec": {
   "display_name": "Python 3",
   "language": "python",
   "name": "python3"
  },
  "language_info": {
   "codemirror_mode": {
    "name": "ipython",
    "version": 3
   },
   "file_extension": ".py",
   "mimetype": "text/x-python",
   "name": "python",
   "nbconvert_exporter": "python",
   "pygments_lexer": "ipython3",
   "version": "3.9.5"
  }
 },
 "nbformat": 4,
 "nbformat_minor": 5
}
